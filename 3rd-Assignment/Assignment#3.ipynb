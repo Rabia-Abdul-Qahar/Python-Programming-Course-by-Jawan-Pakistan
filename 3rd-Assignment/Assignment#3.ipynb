{
 "cells": [
  {
   "cell_type": "code",
   "execution_count": 1,
   "metadata": {},
   "outputs": [
    {
     "name": "stdout",
     "output_type": "stream",
     "text": [
      "Twinkle, twinkle, little star, \n",
      "         How I wonder what you are! \n",
      "                 Up above the world so high, \n",
      "                 Like a diamond in the sky. \n",
      " Twinkle, twinkle little star, \n",
      "         How I wonder what you are!\n"
     ]
    }
   ],
   "source": [
    "#1. Write a Python program to print the following string in a specific format (see the\n",
    "#   output).\n",
    "\n",
    "    #Twinkle, twinkle, little star,\n",
    "    #           How I wonder what you are!\n",
    "    #                   Up above the world so high,\n",
    "    #                   Like a diamond in the sky.\n",
    "\n",
    "    #Twinkle, twinkle, little star,\n",
    "              #How I wonder what you are\n",
    "print(\"Twinkle, twinkle, little star, \\n         How I wonder what you are! \\n                 Up above the world so high, \\n                 Like a diamond in the sky. \\n Twinkle, twinkle little star, \\n         How I wonder what you are!\")"
   ]
  },
  {
   "cell_type": "code",
   "execution_count": 2,
   "metadata": {},
   "outputs": [
    {
     "name": "stdout",
     "output_type": "stream",
     "text": [
      "3.7.6\n"
     ]
    }
   ],
   "source": [
    "#2. Write a Python program to get the Python version you are using\n",
    "from platform import python_version\n",
    "print(python_version());"
   ]
  },
  {
   "cell_type": "code",
   "execution_count": 3,
   "metadata": {},
   "outputs": [
    {
     "name": "stdout",
     "output_type": "stream",
     "text": [
      "Current date and time:2021-54-24 14:54:49\n"
     ]
    }
   ],
   "source": [
    "#3. Write a Python program to display the current date and time.\n",
    "\n",
    "import datetime\n",
    "now=datetime.datetime.now()\n",
    "print(\"Current date and time:\"+ now.strftime(\"%Y-%M-%d %H:%M:%S\"));"
   ]
  },
  {
   "cell_type": "code",
   "execution_count": 4,
   "metadata": {},
   "outputs": [
    {
     "name": "stdout",
     "output_type": "stream",
     "text": [
      "raduis of circle:2\n",
      "The area of radius of circle  2.0 is 12.566370614359172\n"
     ]
    }
   ],
   "source": [
    "#4. Write a Python program which accepts the radius of a circle from the user and compute\n",
    "#   the area.\n",
    "from math import pi\n",
    "r=float(input(\"raduis of circle:\"))\n",
    "print(\"The area of radius of circle  \" + str(r)+\" is \"+str(pi*r**2));"
   ]
  },
  {
   "cell_type": "code",
   "execution_count": 6,
   "metadata": {},
   "outputs": [
    {
     "name": "stdout",
     "output_type": "stream",
     "text": [
      "User First Name:Sara\n",
      "User last name:Rajput\n",
      "Rajput Sara\n"
     ]
    }
   ],
   "source": [
    "#5. Write a Python program which accepts the user's first and last name and print them in\n",
    "#   reverse order with a space between them.\n",
    "user_first=str(input(\"User First Name:\"))\n",
    "user_last=str(input(\"User last name:\"))\n",
    "print(user_last +\" \"+ user_first)"
   ]
  },
  {
   "cell_type": "code",
   "execution_count": 7,
   "metadata": {},
   "outputs": [
    {
     "name": "stdout",
     "output_type": "stream",
     "text": [
      "Enter 1st num: 2\n",
      "Enter 2nd num: 4\n",
      "6.0\n"
     ]
    }
   ],
   "source": [
    "#6. Write a python program which takes two inputs from user and print them addition\n",
    "num1=float(input(\"Enter 1st num: \"))\n",
    "num2=float(input(\"Enter 2nd num: \"))\n",
    "print(num1+num2)"
   ]
  },
  {
   "cell_type": "code",
   "execution_count": 8,
   "metadata": {},
   "outputs": [
    {
     "name": "stdout",
     "output_type": "stream",
     "text": [
      "Enter DSA marks: 77\n",
      "Enter MAD marks: 87\n",
      "Enter TBW marks: 90\n",
      "Enter SPM marks: 90\n",
      "Enter DS marks: 80\n",
      "Grade A+\n"
     ]
    }
   ],
   "source": [
    "#7. Write a program which takes 5 inputs from user for different subject’s marks, total it\n",
    "#   and generate mark sheet using grades ?\n",
    "\n",
    "DSA=float(input(\"Enter DSA marks: \"))\n",
    "MAD=float(input(\"Enter MAD marks: \"))\n",
    "TBW=float(input(\"Enter TBW marks: \"))\n",
    "SPM=float(input(\"Enter SPM marks: \"))\n",
    "DS=float(input(\"Enter DS marks: \"))\n",
    "total=500\n",
    "percent=(DSA+MAD+TBW+SPM+DS)/total*100\n",
    "if percent<100 and percent>80:\n",
    "    print(\"Grade A+\")\n",
    "elif percent<80 and percent>70:\n",
    "    print(\"Grade A\")\n",
    "elif percent<70 and percent>60:\n",
    "    print(\"Grade B\")\n",
    "elif percent<60 and percent>50:\n",
    "    print(\"Grade C\")\n",
    "elif percent<50 and percent>40:\n",
    "    print(\"Grade D\")\n",
    "elif percent<40 and percent>=33:\n",
    "    print(\"Grade E\")\n",
    "elif percent<0 and percent>100:\n",
    "    print(\"You did not ertite percent properly\")\n",
    "else:\n",
    "    print(\"Something wrong!\")"
   ]
  },
  {
   "cell_type": "code",
   "execution_count": 9,
   "metadata": {},
   "outputs": [
    {
     "name": "stdout",
     "output_type": "stream",
     "text": [
      "Enter the number3\n",
      "Number is  Odd\n"
     ]
    }
   ],
   "source": [
    "#8. Write a program which take input from user and identify that the given number is even\n",
    "# or odd?\n",
    "def find(num):\n",
    "    if num%2 == 0:\n",
    "        numtype=\"Even\"\n",
    "    else:\n",
    "        numtype=\"Odd\"\n",
    "    return numtype\n",
    "num=int(input(\"Enter the number\"))\n",
    "numtype=find(num)\n",
    "print(\"Number is  \"+ numtype)"
   ]
  },
  {
   "cell_type": "code",
   "execution_count": 10,
   "metadata": {},
   "outputs": [
    {
     "name": "stdout",
     "output_type": "stream",
     "text": [
      "9\n"
     ]
    }
   ],
   "source": [
    "#9. Write a program which print the length of the list?\n",
    "arr=[\"Iqra\",\"Mahrukh\",\"Unza\",\"Rabia\",\"Neha\",\"Hafsa\",\"Tehreem\",\"Quratualin\",\"Tazeem\"]\n",
    "print(len(arr));"
   ]
  },
  {
   "cell_type": "code",
   "execution_count": 11,
   "metadata": {},
   "outputs": [
    {
     "name": "stdout",
     "output_type": "stream",
     "text": [
      "21\n"
     ]
    }
   ],
   "source": [
    "#10. Write a Python program to sum all the numeric items in a list?\n",
    "aa=[1,2,3,4,5,6]\n",
    "arr=aa[0]+aa[1]+aa[2]+aa[3]+aa[4]+aa[5]\n",
    "print(arr)"
   ]
  },
  {
   "cell_type": "code",
   "execution_count": 12,
   "metadata": {},
   "outputs": [
    {
     "name": "stdout",
     "output_type": "stream",
     "text": [
      "Largest element is: 99\n"
     ]
    }
   ],
   "source": [
    "#11. Write a Python program to get the largest number from a numeric list.\n",
    "list1 = [10, 20, 4, 45, 99]\n",
    "list1.sort()\n",
    "print(\"Largest element is:\", list1[-1])"
   ]
  },
  {
   "cell_type": "code",
   "execution_count": 13,
   "metadata": {},
   "outputs": [
    {
     "name": "stdout",
     "output_type": "stream",
     "text": [
      "[1, 1, 2, 3]\n"
     ]
    }
   ],
   "source": [
    "#12. Take a list, say for example this one:\n",
    "#    a = [1, 1, 2, 3, 5, 8, 13, 21, 34, 55, 89]\n",
    "#    Write a program that prints out all the elements of the list that are less than 5.\n",
    "\n",
    "a=[1,1,2,3,5,8,13,21,34,55,89]\n",
    "x=list(filter(lambda k:k<5,a))\n",
    "print(x)"
   ]
  },
  {
   "cell_type": "code",
   "execution_count": null,
   "metadata": {},
   "outputs": [],
   "source": []
  }
 ],
 "metadata": {
  "kernelspec": {
   "display_name": "Python 3",
   "language": "python",
   "name": "python3"
  },
  "language_info": {
   "codemirror_mode": {
    "name": "ipython",
    "version": 3
   },
   "file_extension": ".py",
   "mimetype": "text/x-python",
   "name": "python",
   "nbconvert_exporter": "python",
   "pygments_lexer": "ipython3",
   "version": "3.7.6"
  }
 },
 "nbformat": 4,
 "nbformat_minor": 4
}
