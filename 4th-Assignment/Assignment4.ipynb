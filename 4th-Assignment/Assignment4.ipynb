{
 "cells": [
  {
   "cell_type": "markdown",
   "metadata": {},
   "source": [
    "# Assignment # 4"
   ]
  },
  {
   "cell_type": "markdown",
   "metadata": {},
   "source": [
    "1. Make a calculator using Python with addition , subtraction , multiplication ,division and power."
   ]
  },
  {
   "cell_type": "code",
   "execution_count": 8,
   "metadata": {},
   "outputs": [
    {
     "name": "stdout",
     "output_type": "stream",
     "text": [
      "What function you want to perform on Calculator !!\n",
      "press 1 for ADDITION \n",
      "press 2 for SUBTRACTION \n",
      "press 3 for MULTIPLICATION \n",
      "press 4 for DIVISION \n",
      "press 5 for POWER \n",
      "Enter CHOICE: 5\n",
      "Power function is activated!!\n",
      "Enter 1 number 2\n",
      "Enter 2 number 2\n",
      "Answer is : 4\n"
     ]
    }
   ],
   "source": [
    "def addition(a,b):\n",
    "    return(a+b)\n",
    "def subtraction(a,b):\n",
    "    return(a-b)\n",
    "def multi(a,b):\n",
    "    return(a*b)\n",
    "def div(a,b):\n",
    "    return(a/b)\n",
    "def power(a,b):\n",
    "    return(a**b)\n",
    "print(\"What function you want to perform on Calculator !!\")\n",
    "print(\"press 1 for ADDITION \")\n",
    "print(\"press 2 for SUBTRACTION \")\n",
    "print(\"press 3 for MULTIPLICATION \")\n",
    "print(\"press 4 for DIVISION \")\n",
    "print(\"press 5 for POWER \")\n",
    "inp=int(input(\"Enter CHOICE: \"))\n",
    "if inp==1:\n",
    "    print(\"Addition function is activated!!\")\n",
    "    a=int(input(\"Enter 1 number \"))\n",
    "    b=int(input(\"Enter 2 number \"))\n",
    "    print(\"Answer is : \"+str(addition(a,b)))\n",
    "elif inp==2:\n",
    "    print(\"Subtraction function is activated!!\")\n",
    "    a=int(input(\"Enter 1 number \"))\n",
    "    b=int(input(\"Enter 2 number \"))\n",
    "    print(\"Answer is : \"+str(subtraction(a,b)))\n",
    "elif inp==3:\n",
    "    print(\"Mulitipliation function is activated!!\")\n",
    "    a=int(input(\"Enter 1 number \"))\n",
    "    b=int(input(\"Enter 2 number \"))\n",
    "    print(\"Answer is : \"+str(multi(a,b)))\n",
    "elif inp==4:\n",
    "    print(\"Division function is activated!!\")\n",
    "    a=int(input(\"Enter 1 number \"))\n",
    "    b=int(input(\"Enter 2 number \"))\n",
    "    print(\"Answer is : \"+str(div(a,b)))\n",
    "elif inp==5:\n",
    "    print(\"Power function is activated!!\")\n",
    "    a=int(input(\"Enter 1 number \"))\n",
    "    b=int(input(\"Enter 2 number \"))\n",
    "    print(\"Answer is : \"+str(power(a,b)))\n",
    "else: \n",
    "    print(\"Invalid choice\")\n",
    "    "
   ]
  },
  {
   "cell_type": "markdown",
   "metadata": {},
   "source": [
    "2. Write a program to check if there is any numeric value in list using for loop."
   ]
  },
  {
   "cell_type": "code",
   "execution_count": 12,
   "metadata": {},
   "outputs": [
    {
     "name": "stdout",
     "output_type": "stream",
     "text": [
      "1\n",
      "2\n"
     ]
    }
   ],
   "source": [
    "a=['a','b','c','d','e',1,'f',2]\n",
    "for t in a:\n",
    "    if type(t)==int:\n",
    "        print(t)"
   ]
  },
  {
   "cell_type": "markdown",
   "metadata": {},
   "source": [
    "3. Write a Python script to add a key to a dictionary."
   ]
  },
  {
   "cell_type": "code",
   "execution_count": 15,
   "metadata": {},
   "outputs": [
    {
     "name": "stdout",
     "output_type": "stream",
     "text": [
      "{'key1': 'a', 'key2': 'b', 'Key3': 'c', 'key4': 'd'}\n",
      "{'key1': 'a', 'key2': 'b', 'Key3': 'c', 'key4': 'd', 'key5': 'e'}\n",
      "{'key1': 'a', 'key2': 'b', 'Key3': 'c', 'key4': 'd', 'key5': 'e', 'key6': 'f'}\n",
      "{'key1': 'a', 'key2': 'b', 'Key3': 'c', 'key4': 'd', 'key5': 'e', 'key6': 'f', 'newkey': 'something', 'key8': 'r'}\n"
     ]
    }
   ],
   "source": [
    "dic={'key1':'a','key2':'b','Key3':'c','key4':'d'}\n",
    "print(dic)\n",
    "dic.update(key5='e')\n",
    "print(dic)\n",
    "dic.update({'key6':'f'})\n",
    "print(dic)\n",
    "dic.update({'newkey':'something','key8':'r'})\n",
    "print(dic)"
   ]
  },
  {
   "cell_type": "markdown",
   "metadata": {},
   "source": [
    "4. Write a Python program to sum all the numeric items in a dictionary."
   ]
  },
  {
   "cell_type": "code",
   "execution_count": 19,
   "metadata": {},
   "outputs": [
    {
     "name": "stdout",
     "output_type": "stream",
     "text": [
      "10\n"
     ]
    }
   ],
   "source": [
    "dic2={1:'a',2:'b',3:'c',4:'d'}\n",
    "print(sum(dic2))"
   ]
  },
  {
   "cell_type": "markdown",
   "metadata": {},
   "source": [
    "5. Write a program to identify duplicate values from list."
   ]
  },
  {
   "cell_type": "code",
   "execution_count": 21,
   "metadata": {},
   "outputs": [
    {
     "name": "stdout",
     "output_type": "stream",
     "text": [
      "[1, 2, 3, 4, 7, 8, 9]\n"
     ]
    }
   ],
   "source": [
    "a=[1,2,3,4,1,1,1,2,3,4,7,8,9]\n",
    "dup=[]\n",
    "for x in a:\n",
    "    if x not in dup:\n",
    "        dup.append(x)\n",
    "print(dup)"
   ]
  },
  {
   "cell_type": "markdown",
   "metadata": {},
   "source": [
    "6. Write a Python script to check if a given key already exists in a dictionary"
   ]
  },
  {
   "cell_type": "code",
   "execution_count": 40,
   "metadata": {},
   "outputs": [
    {
     "name": "stdout",
     "output_type": "stream",
     "text": [
      "key is already exists \n",
      "Not found\n",
      "value is already exists \n"
     ]
    }
   ],
   "source": [
    "dic2={1:'a',2:'b',3:'c',4:'d'}\n",
    "    #one way\n",
    "key=3\n",
    "if key in dic2:\n",
    "        print(\"key is already exists \")\n",
    "else:\n",
    "    print(\"Not found\")\n",
    "\n",
    "    #2nd way\n",
    "key2=5\n",
    "if key2 in dic2.keys():\n",
    "        print(\"key is already exists \")\n",
    "else:\n",
    "    print(\"Not found\")\n",
    "\n",
    "    #3rd way\n",
    "value='d'\n",
    "if value in dic2.values():\n",
    "        print(\"value is already exists \")\n",
    "else:\n",
    "    print(\"Not found\")\n",
    "\n"
   ]
  },
  {
   "cell_type": "code",
   "execution_count": null,
   "metadata": {},
   "outputs": [],
   "source": []
  },
  {
   "cell_type": "code",
   "execution_count": null,
   "metadata": {},
   "outputs": [],
   "source": []
  }
 ],
 "metadata": {
  "kernelspec": {
   "display_name": "Python 3",
   "language": "python",
   "name": "python3"
  },
  "language_info": {
   "codemirror_mode": {
    "name": "ipython",
    "version": 3
   },
   "file_extension": ".py",
   "mimetype": "text/x-python",
   "name": "python",
   "nbconvert_exporter": "python",
   "pygments_lexer": "ipython3",
   "version": "3.7.6"
  }
 },
 "nbformat": 4,
 "nbformat_minor": 4
}
